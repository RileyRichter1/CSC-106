{
 "cells": [
  {
   "cell_type": "markdown",
   "id": "7c6cb831",
   "metadata": {},
   "source": [
    "# Quiz W09"
   ]
  },
  {
   "cell_type": "markdown",
   "id": "0d2eee64",
   "metadata": {},
   "source": [
    "## Please use ONE cell per question.\n",
    "\n",
    "array - [ -2, -1, -3, 0, 3, 1, 2]"
   ]
  },
  {
   "cell_type": "markdown",
   "id": "f0056318",
   "metadata": {},
   "source": [
    "### 1. Develop an algorithm to sort the array in ascending order. (20 marks)"
   ]
  },
  {
   "cell_type": "code",
   "execution_count": 28,
   "id": "51757f4b",
   "metadata": {},
   "outputs": [
    {
     "name": "stdout",
     "output_type": "stream",
     "text": [
      "[-3, -2, -1, 0, 1, 2, 3]\n"
     ]
    }
   ],
   "source": [
    "array = [-2, -1, -3, 0, 3, 1, 2]\n",
    "\n",
    "for x in range(len(array)):\n",
    "    for i in range(len(array)-1):\n",
    "        if(array[i] > array[i+1]):\n",
    "            array[i], array[i+1] = array[i+1], array[i]\n",
    "            \n",
    "print(array)"
   ]
  },
  {
   "cell_type": "markdown",
   "id": "c912f01e",
   "metadata": {},
   "source": [
    "### 2. Develop an algorithm to sort the array in descending order. (20 marks)"
   ]
  },
  {
   "cell_type": "code",
   "execution_count": 29,
   "id": "c4d110ab",
   "metadata": {},
   "outputs": [
    {
     "name": "stdout",
     "output_type": "stream",
     "text": [
      "[3, 2, 1, 0, -1, -2, -3]\n"
     ]
    }
   ],
   "source": [
    "array = [-2, -1, -3, 0, 3, 1, 2]\n",
    "\n",
    "for x in range(len(array)):\n",
    "    for i in range(len(array)-1):\n",
    "        if(array[i] < array[i+1]):\n",
    "            array[i], array[i+1] = array[i+1], array[i]\n",
    "            \n",
    "print(array)"
   ]
  },
  {
   "cell_type": "markdown",
   "id": "b1ec4437",
   "metadata": {},
   "source": [
    "### 3. Develop an algorithm to sort the array in ascending order for numbers greater than 0. (20 marks)"
   ]
  },
  {
   "cell_type": "code",
   "execution_count": 30,
   "id": "170f055b",
   "metadata": {},
   "outputs": [
    {
     "name": "stdout",
     "output_type": "stream",
     "text": [
      "[-2, -1, -3, 0, 1, 2, 3]\n"
     ]
    }
   ],
   "source": [
    "array = [-2, -1, -3, 0, 3, 1, 2]\n",
    "\n",
    "for x in range(len(array)):\n",
    "    for i in range(len(array)-1):\n",
    "        if(array[i] > array[i+1] and array[i] > 0):\n",
    "            array[i], array[i+1] = array[i+1], array[i]\n",
    "            \n",
    "print(array)"
   ]
  },
  {
   "cell_type": "markdown",
   "id": "67630186",
   "metadata": {},
   "source": [
    "### 4. Develop an algorithm to sort the array in descending order for numbers less than 0. (20 marks)"
   ]
  },
  {
   "cell_type": "code",
   "execution_count": 31,
   "id": "1cf02cf2",
   "metadata": {},
   "outputs": [
    {
     "name": "stdout",
     "output_type": "stream",
     "text": [
      "[0, 3, 1, 2, -1, -2, -3]\n"
     ]
    }
   ],
   "source": [
    "array = [-2, -1, -3, 0, 3, 1, 2]\n",
    "\n",
    "for x in range(len(array)):\n",
    "    for i in range(len(array)-1):\n",
    "        if(array[i] < array[i+1] and array[i] < 0):\n",
    "            array[i], array[i+1] = array[i+1], array[i]\n",
    "            \n",
    "print(array)"
   ]
  },
  {
   "cell_type": "markdown",
   "id": "05675d3b",
   "metadata": {},
   "source": [
    "### 5. Develop any algorithm to search the array for the value - 0. (20 marks)"
   ]
  },
  {
   "cell_type": "code",
   "execution_count": 32,
   "id": "135f4256",
   "metadata": {},
   "outputs": [
    {
     "name": "stdout",
     "output_type": "stream",
     "text": [
      "0 is in 'index: 3' or array[3] in the array: [-2, -1, -3, 0, 3, 1, 2]\n"
     ]
    }
   ],
   "source": [
    "array = [-2, -1, -3, 0, 3, 1, 2]\n",
    "\n",
    "for i in range(len(array)-1):\n",
    "    if(array[i] == 0):\n",
    "        print(str(array[i]) + \" is in 'index: \" + str(i) + \"' or array[\" + str(i) + \"] in the array: \" + str(array))"
   ]
  },
  {
   "cell_type": "code",
   "execution_count": null,
   "id": "e0e9b042",
   "metadata": {},
   "outputs": [],
   "source": []
  },
  {
   "cell_type": "code",
   "execution_count": null,
   "id": "b6dc6da3",
   "metadata": {},
   "outputs": [],
   "source": []
  }
 ],
 "metadata": {
  "kernelspec": {
   "display_name": "Python 3 (ipykernel)",
   "language": "python",
   "name": "python3"
  },
  "language_info": {
   "codemirror_mode": {
    "name": "ipython",
    "version": 3
   },
   "file_extension": ".py",
   "mimetype": "text/x-python",
   "name": "python",
   "nbconvert_exporter": "python",
   "pygments_lexer": "ipython3",
   "version": "3.12.3"
  }
 },
 "nbformat": 4,
 "nbformat_minor": 5
}
