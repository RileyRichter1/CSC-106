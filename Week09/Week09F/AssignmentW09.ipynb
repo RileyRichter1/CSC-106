{
 "cells": [
  {
   "cell_type": "markdown",
   "id": "674ec8cd",
   "metadata": {},
   "source": [
    "# Assignment W09 - Riley Richter"
   ]
  },
  {
   "cell_type": "markdown",
   "id": "764701df",
   "metadata": {},
   "source": [
    "## Implement the Temperature Monitoring System in hospital using \n",
    "\n",
    "1. Functions only. (100)\n",
    "\n",
    "2. Lambda Functions only. (100)  \n",
    "\n",
    "Documentation  and Code : \n",
    "\n",
    "CELL 1 : User Input (10)\n",
    "\n",
    "CELL 2 : Program Logic  (80)\n",
    "\n",
    "CELL 3 : Output. (result) (10) "
   ]
  },
  {
   "cell_type": "markdown",
   "id": "4300a024",
   "metadata": {},
   "source": [
    "## 1. Functions only. (100)"
   ]
  },
  {
   "cell_type": "markdown",
   "id": "af80aba8",
   "metadata": {},
   "source": [
    "### User Input"
   ]
  },
  {
   "cell_type": "code",
   "execution_count": 38,
   "id": "0053ebf3",
   "metadata": {},
   "outputs": [
    {
     "name": "stdout",
     "output_type": "stream",
     "text": [
      "Please enter temperature 'Fahrenheit' in decimal/number form: 99\n",
      "Please enter age group - 'adult' 'child' or 'baby': baby\n"
     ]
    }
   ],
   "source": [
    "#Input Temperature and Age Group Functions\n",
    "\n",
    "def getTemp():\n",
    "    while True:\n",
    "        try:\n",
    "            temp = float(input(\"Please enter temperature 'Fahrenheit' in decimal/number form: \"))\n",
    "            return(temp)\n",
    "        except ValueError:\n",
    "            print(\"Oops! That is not a valid temperature format. Try again in decimal/number form 'Fahrenheit'.\")\n",
    "\n",
    "def getAgeGroup():\n",
    "    while True:\n",
    "        age_group = input(\"Please enter age group - 'adult' 'child' or 'baby': \")\n",
    "        if age_group in ['adult', 'child', 'baby']:\n",
    "            return(str(age_group))\n",
    "        else:\n",
    "            print(\"Oops! Invalid age group. Please enter 'adult', 'child', or 'baby': \")\n",
    "\n",
    "#Get User Input:\n",
    "temp = getTemp()\n",
    "age_group = getAgeGroup()\n"
   ]
  },
  {
   "cell_type": "markdown",
   "id": "80e4b463",
   "metadata": {},
   "source": [
    "### Program Logic"
   ]
  },
  {
   "cell_type": "code",
   "execution_count": 39,
   "id": "2343367d",
   "metadata": {},
   "outputs": [],
   "source": [
    "#Function to check temperatures and return output for adult\n",
    "def checkAdult(temp):\n",
    "    temp = int (temp)\n",
    "    if temp <= 95.0:\n",
    "        return(\"Hypothermia SEEK CARE\")\n",
    "    elif 95.1 <= temp <= 96.9:\n",
    "        return(\"Low but possibly normal\")\n",
    "    elif 97.0 <= temp <= 98.6:\n",
    "        return(\"Normal\")\n",
    "    elif 98.7 <= temp <= 100.4:\n",
    "        return(\"Normal or low grade fever\")\n",
    "    elif 100.5 <= temp <= 103.0:\n",
    "        return(\"Fever\")\n",
    "    else:\n",
    "        return(\"High fever CALL YOUR DOCTOR\")\n",
    "        \n",
    "#Function to check temperatures and return output for child\n",
    "def checkChild(temp):\n",
    "    temp = int (temp)\n",
    "    if temp <= 95.0:\n",
    "        return(\"Hypothermia SEEK CARE\")\n",
    "    elif 95.1 <= temp <= 96.9:\n",
    "        return(\"Low but possibly normal\")\n",
    "    elif 97.0 <= temp <= 98.6:\n",
    "        return(\"Normal\")\n",
    "    elif 98.7 <= temp <= 100.4:\n",
    "        return(\"Normal or low grade fever\")\n",
    "    elif 100.5 <= temp <= 103.0:\n",
    "        return(\"Fever\")\n",
    "    else:\n",
    "        return(\"High fever CALL YOUR DOCTOR\")\n",
    "\n",
    "#Function to check temperatures and return output for baby\n",
    "def checkBaby(temp):\n",
    "    temp = int (temp)\n",
    "    if temp <= 95.0:\n",
    "        return(\"Hypothermia SEEK CARE\")\n",
    "    elif 95.1 <= temp <= 96.9:\n",
    "        return(\"Low SEEK CARE\")\n",
    "    elif 97.0 <= temp <= 98.6:\n",
    "        return(\"Normal\")\n",
    "    elif 98.7 <= temp <= 100.4:\n",
    "        return(\"Low grade fever\")\n",
    "    elif 100.5 <= temp <= 103.0:\n",
    "        return(\"Fever SEEK CARE\")\n",
    "    else:\n",
    "        return(\"High fever SEEK CARE\")\n",
    "    "
   ]
  },
  {
   "cell_type": "markdown",
   "id": "acfbb6ff",
   "metadata": {},
   "source": [
    "### Output"
   ]
  },
  {
   "cell_type": "code",
   "execution_count": 40,
   "id": "89940e28",
   "metadata": {},
   "outputs": [
    {
     "name": "stdout",
     "output_type": "stream",
     "text": [
      "Low grade fever\n"
     ]
    }
   ],
   "source": [
    "def getOutput(age_group, temp):\n",
    "    if age_group == \"adult\":\n",
    "        return(checkAdult(temp))\n",
    "    elif age_group == \"child\":\n",
    "        return(checkChild(temp))\n",
    "    elif age_group == \"baby\":\n",
    "        return(checkBaby(temp))\n",
    "    else:\n",
    "        return(\"Error\")\n",
    "\n",
    "#Get the output\n",
    "output1 = getOutput(age_group, temp)\n",
    "\n",
    "print(output1)"
   ]
  },
  {
   "cell_type": "markdown",
   "id": "d6975baa",
   "metadata": {},
   "source": [
    "## 2. Lambda Functions only. (100)"
   ]
  },
  {
   "cell_type": "markdown",
   "id": "7d5acf6d",
   "metadata": {},
   "source": [
    "### User Input"
   ]
  },
  {
   "cell_type": "code",
   "execution_count": 44,
   "id": "fd8a62cb",
   "metadata": {},
   "outputs": [
    {
     "name": "stdout",
     "output_type": "stream",
     "text": [
      "Please enter temperature 'Fahrenheit' in decimal/number form: 99\n",
      "Please enter age group - 'adult' 'child' or 'baby': baby\n"
     ]
    }
   ],
   "source": [
    "#Input Temperature and Age Group Lambda Functions\n",
    "getTemp = lambda: float(input(\"Please enter temperature 'Fahrenheit' in decimal/number form: \"))\n",
    "\n",
    "getAgeGroup = lambda: input(\"Please enter age group - 'adult' 'child' or 'baby': \")\n",
    "\n",
    "# Get User Input\n",
    "temp = getTemp()\n",
    "age_group = getAgeGroup()\n"
   ]
  },
  {
   "cell_type": "markdown",
   "id": "de0dc736",
   "metadata": {},
   "source": [
    "### Program Logic"
   ]
  },
  {
   "cell_type": "code",
   "execution_count": 45,
   "id": "3cee0b30",
   "metadata": {},
   "outputs": [],
   "source": [
    "# Lambda function to check temperatures and return output for adult\n",
    "checkAdult = lambda temp: (\n",
    "    \"Hypothermia SEEK CARE\" if temp <= 95.0 else\n",
    "    \"Low but possibly normal\" if 95.1 <= temp <= 96.9 else\n",
    "    \"Normal\" if 97.0 <= temp <= 98.6 else\n",
    "    \"Normal or low grade fever\" if 98.7 <= temp <= 100.4 else\n",
    "    \"Fever\" if 100.5 <= temp <= 103.0 else\n",
    "    \"High fever CALL YOUR DOCTOR\"\n",
    ")\n",
    "\n",
    "# Lambda function to check temperatures and return output for child\n",
    "checkChild = lambda temp: (\n",
    "    \"Hypothermia SEEK CARE\" if temp <= 95.0 else\n",
    "    \"Low but possibly normal\" if 95.1 <= temp <= 96.9 else\n",
    "    \"Normal\" if 97.0 <= temp <= 98.6 else\n",
    "    \"Normal or low grade fever\" if 98.7 <= temp <= 100.4 else\n",
    "    \"Fever\" if 100.5 <= temp <= 103.0 else\n",
    "    \"High fever CALL YOUR DOCTOR\"\n",
    ")\n",
    "\n",
    "# Lambda function to check temperatures and return output for baby\n",
    "checkBaby = lambda temp: (\n",
    "    \"Hypothermia SEEK CARE\" if temp <= 95.0 else\n",
    "    \"Low SEEK CARE\" if 95.1 <= temp <= 96.9 else\n",
    "    \"Normal\" if 97.0 <= temp <= 98.6 else\n",
    "    \"Low grade fever\" if 98.7 <= temp <= 100.4 else\n",
    "    \"Fever SEEK CARE\" if 100.5 <= temp <= 103.0 else\n",
    "    \"High fever SEEK CARE\"\n",
    ")"
   ]
  },
  {
   "cell_type": "markdown",
   "id": "a00e701e",
   "metadata": {},
   "source": [
    "### Output"
   ]
  },
  {
   "cell_type": "code",
   "execution_count": 46,
   "id": "43a50eb4",
   "metadata": {},
   "outputs": [
    {
     "name": "stdout",
     "output_type": "stream",
     "text": [
      "Low grade fever\n"
     ]
    }
   ],
   "source": [
    "# Lambda function for getting output based on age group and temperature\n",
    "getOutput = lambda age_group, temp: (\n",
    "    checkAdult(temp) if age_group == \"adult\" else\n",
    "    checkChild(temp) if age_group == \"child\" else\n",
    "    checkBaby(temp) if age_group == \"baby\" else\n",
    "    \"Error\"\n",
    ")\n",
    "\n",
    "# Get the output\n",
    "output1 = getOutput(age_group, temp)\n",
    "\n",
    "print(output1)"
   ]
  },
  {
   "cell_type": "code",
   "execution_count": null,
   "id": "aa97feb2",
   "metadata": {},
   "outputs": [],
   "source": []
  }
 ],
 "metadata": {
  "kernelspec": {
   "display_name": "Python 3 (ipykernel)",
   "language": "python",
   "name": "python3"
  },
  "language_info": {
   "codemirror_mode": {
    "name": "ipython",
    "version": 3
   },
   "file_extension": ".py",
   "mimetype": "text/x-python",
   "name": "python",
   "nbconvert_exporter": "python",
   "pygments_lexer": "ipython3",
   "version": "3.12.3"
  }
 },
 "nbformat": 4,
 "nbformat_minor": 5
}
