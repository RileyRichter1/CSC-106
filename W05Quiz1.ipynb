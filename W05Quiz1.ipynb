{
 "cells": [
  {
   "cell_type": "markdown",
   "id": "0a2a9839",
   "metadata": {},
   "source": [
    "# W05 Quiz1"
   ]
  },
  {
   "cell_type": "markdown",
   "id": "351df8f0",
   "metadata": {},
   "source": [
    "### Write a python program to validate your answer :\n",
    "\n",
    "Data Set     ->   1,  1.1,  'A',  'True' \n",
    "\n",
    "1. What are the data types? [1 mark each]\n",
    "\n",
    "2. Store the entire data in a List, Tuple, Set and Dictionary. [1 marks each]\n",
    "\n",
    "3. Extra Credit for documentation. [2 marks]  \n",
    "\n",
    "     Documentation is achieved using the '#' sign at the beginning of the cell. \n",
    "\n",
    "     Documentations are not executable.  "
   ]
  },
  {
   "cell_type": "markdown",
   "id": "c484c1d9",
   "metadata": {},
   "source": [
    "## Create List"
   ]
  },
  {
   "cell_type": "code",
   "execution_count": 16,
   "id": "40d7cd49",
   "metadata": {},
   "outputs": [],
   "source": [
    "l1 = [1,  1.1,  'A',  True]"
   ]
  },
  {
   "cell_type": "markdown",
   "id": "418d2d32",
   "metadata": {},
   "source": [
    "## 1. What are the data types? [1 mark each]"
   ]
  },
  {
   "cell_type": "code",
   "execution_count": 17,
   "id": "00e23964",
   "metadata": {},
   "outputs": [
    {
     "name": "stdout",
     "output_type": "stream",
     "text": [
      "<class 'int'>\n",
      "<class 'float'>\n",
      "<class 'str'>\n",
      "<class 'bool'>\n"
     ]
    }
   ],
   "source": [
    "print(type(l1[0]))\n",
    "print(type(l1[1]))\n",
    "print(type(l1[2]))\n",
    "print(type(l1[3]))"
   ]
  },
  {
   "cell_type": "markdown",
   "id": "5f43102d",
   "metadata": {},
   "source": [
    "Index: 0 Type = integer\n",
    "\n",
    "Index: 1 Type = float\n",
    "\n",
    "Index: 2 Type = string (could be Character but says String)\n",
    "\n",
    "Index: 3 Type = booleon\n"
   ]
  },
  {
   "cell_type": "markdown",
   "id": "f319f8c4",
   "metadata": {},
   "source": [
    "## 2. Store the entire data in a List, Tuple, Set and Dictionary. [1 marks each]"
   ]
  },
  {
   "cell_type": "code",
   "execution_count": 18,
   "id": "dffc2922",
   "metadata": {},
   "outputs": [
    {
     "name": "stdout",
     "output_type": "stream",
     "text": [
      "[1, 1.1, 'A', True]\n",
      "(1, 1.1, 'A', True)\n",
      "{1, 'A', 1.1}\n",
      "{'Int': 1, 'Float': 1.1, 'Char': 'A', 'Bool': True}\n"
     ]
    }
   ],
   "source": [
    "#List\n",
    "l1 = [1,  1.1,  'A',  True]\n",
    "#Tuple\n",
    "t1 = tuple(l1)\n",
    "#Set\n",
    "s1 = set(l1)\n",
    "#Dictionary\n",
    "d1 = {\n",
    "    \"Int\": 1,\n",
    "    \"Float\": 1.1,\n",
    "    \"Char\": \"A\",\n",
    "    \"Bool\": True\n",
    "}\n",
    "\n",
    "print(l1)\n",
    "print(t1)\n",
    "print(s1)\n",
    "print(d1)"
   ]
  },
  {
   "cell_type": "code",
   "execution_count": null,
   "id": "829b2654",
   "metadata": {},
   "outputs": [],
   "source": []
  },
  {
   "cell_type": "code",
   "execution_count": null,
   "id": "115ed4c7",
   "metadata": {},
   "outputs": [],
   "source": []
  },
  {
   "cell_type": "code",
   "execution_count": null,
   "id": "04908af1",
   "metadata": {},
   "outputs": [],
   "source": []
  },
  {
   "cell_type": "code",
   "execution_count": null,
   "id": "60c3429c",
   "metadata": {},
   "outputs": [],
   "source": []
  }
 ],
 "metadata": {
  "kernelspec": {
   "display_name": "Python 3 (ipykernel)",
   "language": "python",
   "name": "python3"
  },
  "language_info": {
   "codemirror_mode": {
    "name": "ipython",
    "version": 3
   },
   "file_extension": ".py",
   "mimetype": "text/x-python",
   "name": "python",
   "nbconvert_exporter": "python",
   "pygments_lexer": "ipython3",
   "version": "3.12.3"
  }
 },
 "nbformat": 4,
 "nbformat_minor": 5
}
