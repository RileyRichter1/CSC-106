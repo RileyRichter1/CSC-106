{
 "cells": [
  {
   "cell_type": "markdown",
   "id": "8e981616",
   "metadata": {},
   "source": [
    "# Assignment"
   ]
  },
  {
   "cell_type": "markdown",
   "id": "dc8f8a62",
   "metadata": {},
   "source": [
    "1. Read all the directory (folders) and files in the CSC106 main folder.  (20 points)\n",
    "   Use the built in \"import os\" API. (20 points) \n",
    "   reference : https://docs.python.org/3/library/os.htmlLinks to an external site. \n",
    "   Submit a screen shot of 'up till week 04' folders and files. (10 points)\n",
    "\n",
    " \n",
    "\n",
    " 2. Scrap the WWW (any site) using Beautiful Soup. (25 points)\n",
    "      Store as dataframe using Dictionary. (25 points)"
   ]
  },
  {
   "cell_type": "markdown",
   "id": "5212ce36",
   "metadata": {},
   "source": [
    "## Part 1"
   ]
  },
  {
   "cell_type": "code",
   "execution_count": 26,
   "id": "9834d157",
   "metadata": {
    "scrolled": false
   },
   "outputs": [
    {
     "name": "stdout",
     "output_type": "stream",
     "text": [
      "Folder: ../../../CSC106/Week06\n",
      "Folder: ../../../CSC106/Week07\n",
      "Folder: ../../../CSC106/Week13\n",
      "Folder: ../../../CSC106/Week04\n",
      "Folder: ../../../CSC106/Week08\n",
      "Folder: ../../../CSC106/Week03\n",
      "Folder: ../../../CSC106/Week15\n",
      "Folder: ../../../CSC106/Week05\n",
      "Folder: ../../../CSC106/Week01\n",
      "Folder: ../../../CSC106/Week11\n",
      "Folder: ../../../CSC106/Week02\n",
      "Folder: ../../../CSC106/Week10\n",
      "Folder: ../../../CSC106/Week14\n",
      "Folder: ../../../CSC106/Week16\n",
      "Folder: ../../../CSC106/.ipynb_checkpoints\n",
      "Folder: ../../../CSC106/Week12\n",
      "Folder: ../../../CSC106/Week09\n",
      "Folder: ../../../CSC106/Week06/Week06F\n",
      "Folder: ../../../CSC106/Week06/Week06M\n",
      "Folder: ../../../CSC106/Week06/Week06W\n",
      "Folder: ../../../CSC106/Week06/Week06F/.ipynb_checkpoints\n",
      "File: ../../../CSC106/Week06/Week06F/Inclass.ipynb\n",
      "File: ../../../CSC106/Week06/Week06F/.ipynb_checkpoints/Inclass-checkpoint.ipynb\n",
      "Folder: ../../../CSC106/Week06/Week06M/.ipynb_checkpoints\n",
      "File: ../../../CSC106/Week06/Week06M/Activity.ipynb\n",
      "File: ../../../CSC106/Week06/Week06M/.ipynb_checkpoints/Activity-checkpoint.ipynb\n",
      "Folder: ../../../CSC106/Week07/Week07M\n",
      "Folder: ../../../CSC106/Week07/Week07F\n",
      "Folder: ../../../CSC106/Week07/Week07W\n",
      "Folder: ../../../CSC106/Week13/Week13W\n",
      "Folder: ../../../CSC106/Week13/Week13M\n",
      "Folder: ../../../CSC106/Week13/Week13F\n",
      "Folder: ../../../CSC106/Week04/Week04F\n",
      "Folder: ../../../CSC106/Week04/Week04M\n",
      "Folder: ../../../CSC106/Week04/Week04W\n",
      "Folder: ../../../CSC106/Week04/Week04F/.ipynb_checkpoints\n",
      "File: ../../../CSC106/Week04/Week04F/Untitled.ipynb\n",
      "File: ../../../CSC106/Week04/Week04F/Data Structuredness.ipynb\n",
      "File: ../../../CSC106/Week04/Week04F/.ipynb_checkpoints/Data Structuredness-checkpoint.ipynb\n",
      "File: ../../../CSC106/Week04/Week04F/.ipynb_checkpoints/Untitled-checkpoint.ipynb\n",
      "Folder: ../../../CSC106/Week04/Week04M/.ipynb_checkpoints\n",
      "File: ../../../CSC106/Week04/Week04M/DataTypes.ipynb\n",
      "File: ../../../CSC106/Week04/Week04M/InClassAssignmentW04M-RileyRichter.ipynb\n",
      "File: ../../../CSC106/Week04/Week04M/.ipynb_checkpoints/InClassAssignmentW04M-RileyRichter-checkpoint.ipynb\n",
      "File: ../../../CSC106/Week04/Week04M/.ipynb_checkpoints/DataTypes-checkpoint.ipynb\n",
      "Folder: ../../../CSC106/Week04/Week04W/.ipynb_checkpoints\n",
      "File: ../../../CSC106/Week04/Week04W/Week04WInClassAssignment-RileyRichter-DataContainers.ipynb\n",
      "File: ../../../CSC106/Week04/Week04W/.ipynb_checkpoints/Week04WInClassAssignment-RileyRichter-DataContainers-checkpoint.ipynb\n",
      "Folder: ../../../CSC106/Week08/Week08W\n",
      "Folder: ../../../CSC106/Week08/Week08M\n",
      "Folder: ../../../CSC106/Week08/Week08F\n",
      "Folder: ../../../CSC106/Week03/Week03F\n",
      "Folder: ../../../CSC106/Week03/Week03M\n",
      "Folder: ../../../CSC106/Week03/Week03W\n",
      "Folder: ../../../CSC106/Week03/.ipynb_checkpoints\n",
      "Folder: ../../../CSC106/Week03/Week03F/.ipynb_checkpoints\n",
      "File: ../../../CSC106/Week03/Week03F/background.wav\n",
      "File: ../../../CSC106/Week03/Week03F/ufo.png\n",
      "File: ../../../CSC106/Week03/Week03F/spaceship.png\n",
      "File: ../../../CSC106/Week03/Week03F/bullet.png\n",
      "File: ../../../CSC106/Week03/Week03F/bullet.wav\n",
      "File: ../../../CSC106/Week03/Week03F/Space Invaders.ipynb\n",
      "File: ../../../CSC106/Week03/Week03F/alien.png\n",
      "File: ../../../CSC106/Week03/Week03F/explosion.wav\n",
      "File: ../../../CSC106/Week03/Week03F/.ipynb_checkpoints/Space Invaders-checkpoint.ipynb\n",
      "Folder: ../../../CSC106/Week03/Week03M/.ipynb_checkpoints\n",
      "File: ../../../CSC106/Week03/Week03M/W03 Quiz1(1).ipynb\n",
      "File: ../../../CSC106/Week03/Week03M/inclass.py.save\n",
      "File: ../../../CSC106/Week03/Week03M/W03 Quiz1.ipynb\n",
      "File: ../../../CSC106/Week03/Week03M/W03 Quiz1 (2).ipynb\n",
      "File: ../../../CSC106/Week03/Week03M/.ipynb_checkpoints/W03 Quiz1-checkpoint.ipynb\n",
      "Folder: ../../../CSC106/Week15/Week15F\n",
      "Folder: ../../../CSC106/Week15/Week15W\n",
      "Folder: ../../../CSC106/Week15/Week15M\n",
      "Folder: ../../../CSC106/Week05/Week05F\n",
      "Folder: ../../../CSC106/Week05/Week05M\n",
      "Folder: ../../../CSC106/Week05/Week05W\n",
      "Folder: ../../../CSC106/Week05/Week05F/.ipynb_checkpoints\n",
      "File: ../../../CSC106/Week05/Week05F/HomeworkW05F.ipynb\n",
      "File: ../../../CSC106/Week05/Week05F/Week05FScrot\n",
      "File: ../../../CSC106/Week05/Week05F/.ipynb_checkpoints/HomeworkW05F-checkpoint.ipynb\n",
      "Folder: ../../../CSC106/Week05/Week05M/.ipynb_checkpoints\n",
      "File: ../../../CSC106/Week05/Week05M/PandasExample.ipynb\n",
      "File: ../../../CSC106/Week05/Week05M/HomeworkW0401.ipynb\n",
      "File: ../../../CSC106/Week05/Week05M/baseball.csv\n",
      "File: ../../../CSC106/Week05/Week05M/W05Quiz1.ipynb\n",
      "File: ../../../CSC106/Week05/Week05M/.ipynb_checkpoints/HomeworkW0401-checkpoint.ipynb\n",
      "File: ../../../CSC106/Week05/Week05M/.ipynb_checkpoints/W05Quiz1-checkpoint.ipynb\n",
      "File: ../../../CSC106/Week05/Week05M/.ipynb_checkpoints/PandasExample-checkpoint.ipynb\n",
      "Folder: ../../../CSC106/Week01/Week01W\n",
      "Folder: ../../../CSC106/Week01/Week01F\n",
      "Folder: ../../../CSC106/Week01/Week01M\n",
      "Folder: ../../../CSC106/Week01/.ipynb_checkpoints\n",
      "Folder: ../../../CSC106/Week01/Week01F/.ipynb_checkpoints\n",
      "Folder: ../../../CSC106/Week11/Week11W\n",
      "Folder: ../../../CSC106/Week11/Week11M\n",
      "Folder: ../../../CSC106/Week11/Week11F\n",
      "Folder: ../../../CSC106/Week02/Week02M\n",
      "Folder: ../../../CSC106/Week02/Week02W\n",
      "Folder: ../../../CSC106/Week02/.ipynb_checkpoints\n",
      "Folder: ../../../CSC106/Week02/Week02F\n",
      "Folder: ../../../CSC106/Week02/Week02M/.ipynb_checkpoints\n",
      "File: ../../../CSC106/Week02/Week02M/Quiz 1.ipynb\n",
      "File: ../../../CSC106/Week02/Week02M/.ipynb_checkpoints/Quiz 1-checkpoint.ipynb\n",
      "File: ../../../CSC106/Week02/Week02W/nano.8362.save\n",
      "File: ../../../CSC106/Week02/Week02W/example.py\n",
      "File: ../../../CSC106/Week02/Week02F/LinuxScrot.png\n",
      "File: ../../../CSC106/Week02/Week02F/GitHubScrot.png\n",
      "File: ../../../CSC106/Week02/Week02F/JupyterScrot.png\n",
      "File: ../../../CSC106/Week02/Week02F/example.py\n",
      "Folder: ../../../CSC106/Week10/Week10F\n",
      "Folder: ../../../CSC106/Week10/Week10M\n",
      "Folder: ../../../CSC106/Week10/Week10W\n",
      "Folder: ../../../CSC106/Week14/Week14F\n",
      "Folder: ../../../CSC106/Week14/Week14W\n",
      "Folder: ../../../CSC106/Week14/Week14M\n",
      "Folder: ../../../CSC106/Week16/Week16F\n",
      "Folder: ../../../CSC106/Week16/Week16M\n",
      "Folder: ../../../CSC106/Week16/Week16W\n",
      "File: ../../../CSC106/Week16/Week16F/HelloWorld.py\n",
      "Folder: ../../../CSC106/Week12/Week12W\n",
      "Folder: ../../../CSC106/Week12/Week12F\n",
      "Folder: ../../../CSC106/Week12/Week12M\n",
      "Folder: ../../../CSC106/Week09/Week09F\n",
      "Folder: ../../../CSC106/Week09/Week09W\n",
      "Folder: ../../../CSC106/Week09/Week09M\n"
     ]
    }
   ],
   "source": [
    "import os\n",
    "\n",
    "path = \"../../../CSC106\"\n",
    "\n",
    "\n",
    "for root, directories, files in os.walk(path):\n",
    "    for directory in directories:\n",
    "        print(f\"Folder: {os.path.join(root, directory)}\")\n",
    "\n",
    "    for file in files:\n",
    "        print(f\"File: {os.path.join(root, file)}\")\n"
   ]
  },
  {
   "cell_type": "markdown",
   "id": "969b6170",
   "metadata": {},
   "source": [
    "## Part 2"
   ]
  },
  {
   "cell_type": "code",
   "execution_count": 27,
   "id": "553ed3ab",
   "metadata": {
    "scrolled": true
   },
   "outputs": [
    {
     "name": "stdout",
     "output_type": "stream",
     "text": [
      "{'https://my.umary.edu/ICS/General_Policies__Compliance.jnz': 'General Policies & Compliance', 'http://www.umary.edu/': 'www.umary.edu', 'https://jenzabarhelp.jenzabar.com/ews/help/JICS/Base/released/en/free-form-content.html': \"Get help using 'One Stop Shop'\", 'https://my.umary.edu/ICS/Resources/Student_Resources/One_Stop_Shop/': 'Visit One Stop Shop FAQs', 'https://outlook.office365.com/owa/calendar/UniversityofMaryOneStopShop@umary0.onmicrosoft.com/bookings/': 'Book an Appointment', 'https://www.umary.edu/privacy-policy': 'Privacy Policy', 'https://www.umary.edu/about': 'About Us', 'https://www.umary.edu/contact': 'Contact Us', 'https://my.umary.edu/ICS/icsfs/Copyright_Infringement.pdf?target=9a68ede7-e441-4a6e-958b-fc542b71bf92': 'Copyright Policy', 'General Policies & Compliance': 'https://my.umary.edu/ICS/General_Policies__Compliance.jnz', 'www.umary.edu': 'http://www.umary.edu/', \"Get help using 'Welcome to My.UMary.edu!'\": 'https://jenzabarhelp.jenzabar.com/ews/help/JICS/Base/released/en/free-form-content.html', \"Get help using 'The My.UMary.edu Portal'\": 'https://jenzabarhelp.jenzabar.com/ews/help/JICS/Base/released/en/free-form-content.html', \"Get help using 'One Stop Shop'\": 'https://jenzabarhelp.jenzabar.com/ews/help/JICS/Base/released/en/free-form-content.html', 'Visit One Stop Shop FAQs': 'https://my.umary.edu/ICS/Resources/Student_Resources/One_Stop_Shop/', 'Book an Appointment': 'https://outlook.office365.com/owa/calendar/UniversityofMaryOneStopShop@umary0.onmicrosoft.com/bookings/', 'Privacy Policy': 'https://www.umary.edu/privacy-policy', 'About Us': 'https://www.umary.edu/about', 'Contact Us': 'https://www.umary.edu/contact', 'Copyright Policy': 'https://my.umary.edu/ICS/icsfs/Copyright_Infringement.pdf?target=9a68ede7-e441-4a6e-958b-fc542b71bf92'}\n"
     ]
    }
   ],
   "source": [
    "import requests\n",
    "from bs4 import BeautifulSoup\n",
    "\n",
    "linksContainer = {}\n",
    "\n",
    "url = 'https://my.umary.edu/ICS'\n",
    "response = requests.get(url)\n",
    "soup = BeautifulSoup(response.content, 'html.parser')\n",
    "\n",
    "links = soup.find_all('a')\n",
    "\n",
    "for link in links:\n",
    "    href = link.get('href')\n",
    "    link_text = link.text.strip()\n",
    "    \n",
    "    if href and href.startswith(('http://', 'https://')):\n",
    "        linksContainer[href] = link_text\n",
    "\n",
    "print(linksContainer)"
   ]
  },
  {
   "cell_type": "code",
   "execution_count": null,
   "id": "ffe0a428",
   "metadata": {},
   "outputs": [],
   "source": []
  },
  {
   "cell_type": "code",
   "execution_count": null,
   "id": "ac68e23f",
   "metadata": {},
   "outputs": [],
   "source": []
  }
 ],
 "metadata": {
  "kernelspec": {
   "display_name": "Python 3 (ipykernel)",
   "language": "python",
   "name": "python3"
  },
  "language_info": {
   "codemirror_mode": {
    "name": "ipython",
    "version": 3
   },
   "file_extension": ".py",
   "mimetype": "text/x-python",
   "name": "python",
   "nbconvert_exporter": "python",
   "pygments_lexer": "ipython3",
   "version": "3.12.3"
  }
 },
 "nbformat": 4,
 "nbformat_minor": 5
}
