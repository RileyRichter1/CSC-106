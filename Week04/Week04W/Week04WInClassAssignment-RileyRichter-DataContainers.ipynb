{
 "cells": [
  {
   "cell_type": "markdown",
   "id": "36b5f839",
   "metadata": {},
   "source": [
    "# CSC 106 Week04W In Class Assignment"
   ]
  },
  {
   "cell_type": "markdown",
   "id": "78a81ab6",
   "metadata": {},
   "source": [
    "## Lists - Insert, Update, and Delete"
   ]
  },
  {
   "cell_type": "code",
   "execution_count": 117,
   "id": "b9af4f48",
   "metadata": {
    "scrolled": true
   },
   "outputs": [
    {
     "name": "stdout",
     "output_type": "stream",
     "text": [
      "<class 'list'>\n",
      "<class 'bool'>\n",
      "4\n",
      "H\n"
     ]
    }
   ],
   "source": [
    "l1 = [1, 1.1, 'H', True]\n",
    "print(type(l1))\n",
    "print(type(l1[3]))\n",
    "print(len(l1))\n",
    "print(l1[2])"
   ]
  },
  {
   "cell_type": "markdown",
   "id": "ed9e670c",
   "metadata": {},
   "source": [
    "### Insert"
   ]
  },
  {
   "cell_type": "code",
   "execution_count": 118,
   "id": "90667505",
   "metadata": {},
   "outputs": [
    {
     "name": "stdout",
     "output_type": "stream",
     "text": [
      "[1, 1.1, 'H', True]\n",
      "[1, 1.1, 'H', True, 'New Item']\n"
     ]
    }
   ],
   "source": [
    "print(l1)\n",
    "l1.append(\"New Item\")\n",
    "print(l1)"
   ]
  },
  {
   "cell_type": "markdown",
   "id": "884464a5",
   "metadata": {},
   "source": [
    "### Update"
   ]
  },
  {
   "cell_type": "code",
   "execution_count": 119,
   "id": "40f0df76",
   "metadata": {},
   "outputs": [
    {
     "name": "stdout",
     "output_type": "stream",
     "text": [
      "[1, 1.1, 'H', True, 'New Item']\n",
      "[1, 1.1, 'H', False, 'New Item']\n"
     ]
    }
   ],
   "source": [
    "print(l1)\n",
    "l1[3] = False\n",
    "print(l1)"
   ]
  },
  {
   "cell_type": "markdown",
   "id": "28200eb0",
   "metadata": {},
   "source": [
    "### Delete"
   ]
  },
  {
   "cell_type": "code",
   "execution_count": 120,
   "id": "2753a359",
   "metadata": {
    "scrolled": true
   },
   "outputs": [
    {
     "name": "stdout",
     "output_type": "stream",
     "text": [
      "[1, 1.1, 'H', False, 'New Item']\n",
      "[1, 1.1, 'H', False]\n"
     ]
    }
   ],
   "source": [
    "print(l1)\n",
    "l1.pop(4)\n",
    "print(l1)"
   ]
  },
  {
   "cell_type": "markdown",
   "id": "3da59959",
   "metadata": {},
   "source": [
    "## Tuples - Insert, Update, and Delete"
   ]
  },
  {
   "cell_type": "code",
   "execution_count": 121,
   "id": "de11e8ca",
   "metadata": {
    "scrolled": true
   },
   "outputs": [
    {
     "name": "stdout",
     "output_type": "stream",
     "text": [
      "<class 'tuple'>\n",
      "<class 'bool'>\n",
      "4\n",
      "True\n"
     ]
    }
   ],
   "source": [
    "t1 = (1, 1.1, 'H', True)\n",
    "print(type(t1))\n",
    "print(type(t1[3]))\n",
    "print(len(t1))\n",
    "print(t1[3])"
   ]
  },
  {
   "cell_type": "markdown",
   "id": "521a49e0",
   "metadata": {},
   "source": [
    "### Insert (Convert tuple to list and add item(s) to it. Then convert back to tuple.)"
   ]
  },
  {
   "cell_type": "code",
   "execution_count": 122,
   "id": "e429a03e",
   "metadata": {},
   "outputs": [
    {
     "name": "stdout",
     "output_type": "stream",
     "text": [
      "(1, 1.1, 'H', True)\n",
      "(1, 1.1, 'H', True, 'New Item')\n"
     ]
    }
   ],
   "source": [
    "print(t1)\n",
    "list_t1 = list(t1)\n",
    "list_t1.append(\"New Item\")\n",
    "t2 = tuple(list_t1)\n",
    "print(t2)"
   ]
  },
  {
   "cell_type": "markdown",
   "id": "749cfbb1",
   "metadata": {},
   "source": [
    "### Update (Convert tuple to list and change item(s) in it. Then convert back to tuple.)"
   ]
  },
  {
   "cell_type": "code",
   "execution_count": 123,
   "id": "3ef601e3",
   "metadata": {},
   "outputs": [
    {
     "name": "stdout",
     "output_type": "stream",
     "text": [
      "(1, 1.1, 'H', True, 'New Item')\n",
      "(1, 1.1, 'H', False, 'New Item')\n"
     ]
    }
   ],
   "source": [
    "print(t2)\n",
    "list_t2 = list(t2)\n",
    "list_t2[3] = False\n",
    "t3 = tuple(list_t2)\n",
    "print(t3)"
   ]
  },
  {
   "cell_type": "markdown",
   "id": "2573cc1b",
   "metadata": {},
   "source": [
    "### Delete (Convert tuple to list and delete item(s) in it. Then convert back to tuple.)"
   ]
  },
  {
   "cell_type": "code",
   "execution_count": 124,
   "id": "85332a92",
   "metadata": {
    "scrolled": true
   },
   "outputs": [
    {
     "name": "stdout",
     "output_type": "stream",
     "text": [
      "(1, 1.1, 'H', False, 'New Item')\n",
      "(1, 1.1, 'H', False)\n"
     ]
    }
   ],
   "source": [
    "print(t3)\n",
    "list_t3 = list(t3)\n",
    "list_t3.pop(4)\n",
    "t4 = tuple(list_t3)\n",
    "print(t4)"
   ]
  },
  {
   "cell_type": "markdown",
   "id": "06fcec22",
   "metadata": {},
   "source": [
    "## Dictionaries - Insert, Update, and Delete"
   ]
  },
  {
   "cell_type": "code",
   "execution_count": 125,
   "id": "b3362f4c",
   "metadata": {
    "scrolled": true
   },
   "outputs": [
    {
     "name": "stdout",
     "output_type": "stream",
     "text": [
      "<class 'dict'>\n",
      "<class 'str'>\n",
      "3\n",
      "Riley Richter\n"
     ]
    }
   ],
   "source": [
    "d1 = {\n",
    "    \"Name\": \"Riley Richter\",\n",
    "    \"Address\": \"750 Little Beaver Dr, Linton, ND, 58552\",\n",
    "    \"Email\": \"rjrichter1@umary.edu\"\n",
    "}\n",
    "print(type(d1))\n",
    "print(type(d1[\"Name\"]))\n",
    "print(len(d1))\n",
    "print(d1[\"Name\"])"
   ]
  },
  {
   "cell_type": "markdown",
   "id": "085d60e6",
   "metadata": {},
   "source": [
    "### Insert"
   ]
  },
  {
   "cell_type": "code",
   "execution_count": 126,
   "id": "ff62f782",
   "metadata": {},
   "outputs": [
    {
     "name": "stdout",
     "output_type": "stream",
     "text": [
      "{'Name': 'Riley Richter', 'Address': '750 Little Beaver Dr, Linton, ND, 58552', 'Email': 'rjrichter1@umary.edu'}\n",
      "{'Name': 'Riley Richter', 'Address': '750 Little Beaver Dr, Linton, ND, 58552', 'Email': 'rjrichter1@umary.edu', 'Age': 19}\n"
     ]
    }
   ],
   "source": [
    "print(d1)\n",
    "d1[\"Age\"] = 19\n",
    "print(d1)"
   ]
  },
  {
   "cell_type": "markdown",
   "id": "055c2289",
   "metadata": {},
   "source": [
    "### Update"
   ]
  },
  {
   "cell_type": "code",
   "execution_count": 127,
   "id": "8774135f",
   "metadata": {},
   "outputs": [
    {
     "name": "stdout",
     "output_type": "stream",
     "text": [
      "{'Name': 'Riley Richter', 'Address': '750 Little Beaver Dr, Linton, ND, 58552', 'Email': 'rjrichter1@umary.edu', 'Age': 19}\n",
      "{'Name': 'Riley J Richter', 'Address': '750 Little Beaver Dr, Linton, ND, 58552', 'Email': 'rjrichter1@umary.edu', 'Age': 19}\n"
     ]
    }
   ],
   "source": [
    "print(d1)\n",
    "d1[\"Name\"] = \"Riley J Richter\"\n",
    "print(d1)"
   ]
  },
  {
   "cell_type": "markdown",
   "id": "3a003cd5",
   "metadata": {},
   "source": [
    "### Delete"
   ]
  },
  {
   "cell_type": "code",
   "execution_count": 128,
   "id": "9b2cca31",
   "metadata": {
    "scrolled": false
   },
   "outputs": [
    {
     "name": "stdout",
     "output_type": "stream",
     "text": [
      "{'Name': 'Riley J Richter', 'Address': '750 Little Beaver Dr, Linton, ND, 58552', 'Email': 'rjrichter1@umary.edu', 'Age': 19}\n",
      "{'Name': 'Riley J Richter', 'Address': '750 Little Beaver Dr, Linton, ND, 58552', 'Email': 'rjrichter1@umary.edu'}\n"
     ]
    }
   ],
   "source": [
    "print(d1)\n",
    "d1.pop(\"Age\")\n",
    "print(d1)"
   ]
  },
  {
   "cell_type": "markdown",
   "id": "70954f9b",
   "metadata": {},
   "source": [
    "## Sets - Insert, Update, and Delete"
   ]
  },
  {
   "cell_type": "code",
   "execution_count": 129,
   "id": "e2e85c16",
   "metadata": {},
   "outputs": [
    {
     "name": "stdout",
     "output_type": "stream",
     "text": [
      "<class 'set'>\n",
      "3\n",
      "{1, 'H', 1.1}\n",
      "<class 'int'>\n",
      "1\n",
      "4\n",
      "{False, 1, 'H', 1.1}\n",
      "<class 'bool'>\n",
      "False\n"
     ]
    }
   ],
   "source": [
    "s1 = {1, 1.1, 'H', True}\n",
    "list_s1 = list(s1)\n",
    "print(type(s1))\n",
    "print(len(s1))\n",
    "print(s1)\n",
    "print(type(list_s1[0]))\n",
    "print(list_s1[0])\n",
    "#1=True so set length is 3. Sets don't keep duplicate values.\n",
    "s2 = {1, 1.1, 'H', False}\n",
    "list_s2 = list(s2)\n",
    "print(len(s2))\n",
    "print(s2)\n",
    "print(type(list_s2[0]))\n",
    "print(list_s2[0])"
   ]
  },
  {
   "cell_type": "markdown",
   "id": "688254c1",
   "metadata": {},
   "source": [
    "### Insert"
   ]
  },
  {
   "cell_type": "code",
   "execution_count": 130,
   "id": "9c6840bb",
   "metadata": {},
   "outputs": [
    {
     "name": "stdout",
     "output_type": "stream",
     "text": [
      "{1, 'H', 1.1}\n",
      "{1, 'H', 'New Item', 1.1}\n"
     ]
    }
   ],
   "source": [
    "print(s1)\n",
    "s1.add(\"New Item\")\n",
    "print(s1)"
   ]
  },
  {
   "cell_type": "markdown",
   "id": "e52a6a16",
   "metadata": {},
   "source": [
    "### Update"
   ]
  },
  {
   "cell_type": "code",
   "execution_count": 131,
   "id": "d8f0de0e",
   "metadata": {},
   "outputs": [
    {
     "name": "stdout",
     "output_type": "stream",
     "text": [
      "{1, 'H', 'New Item', 1.1}\n",
      "{1, 'H', 'Updated Item', 1.1}\n"
     ]
    }
   ],
   "source": [
    "print(s1)\n",
    "s1.remove(\"New Item\")\n",
    "s1.add(\"Updated Item\")\n",
    "print(s1)"
   ]
  },
  {
   "cell_type": "markdown",
   "id": "6c406e62",
   "metadata": {},
   "source": [
    "### Delete"
   ]
  },
  {
   "cell_type": "code",
   "execution_count": 132,
   "id": "543ff1b7",
   "metadata": {
    "scrolled": true
   },
   "outputs": [
    {
     "name": "stdout",
     "output_type": "stream",
     "text": [
      "{1, 'H', 'Updated Item', 1.1}\n",
      "{1, 'H', 1.1}\n"
     ]
    }
   ],
   "source": [
    "print(s1)\n",
    "s1.remove(\"Updated Item\")\n",
    "print(s1)"
   ]
  },
  {
   "cell_type": "code",
   "execution_count": null,
   "id": "1531df0d",
   "metadata": {},
   "outputs": [],
   "source": []
  }
 ],
 "metadata": {
  "kernelspec": {
   "display_name": "Python 3 (ipykernel)",
   "language": "python",
   "name": "python3"
  },
  "language_info": {
   "codemirror_mode": {
    "name": "ipython",
    "version": 3
   },
   "file_extension": ".py",
   "mimetype": "text/x-python",
   "name": "python",
   "nbconvert_exporter": "python",
   "pygments_lexer": "ipython3",
   "version": "3.12.3"
  }
 },
 "nbformat": 4,
 "nbformat_minor": 5
}
