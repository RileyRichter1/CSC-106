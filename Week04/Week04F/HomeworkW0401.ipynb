{
 "cells": [
  {
   "cell_type": "markdown",
   "id": "4577c692",
   "metadata": {},
   "source": [
    "# HomeworkW0401\n",
    "\n",
    "Using the class exercise on 09/27 (data containers), create a single consolidated data frame of all the data containers. \n",
    "\n",
    "1. Data containers design. 25%.\n",
    "\n",
    "2. API to read (pandas recommended). 25%.\n",
    "\n",
    "3. Consolidation using API example add or append. 25%.\n",
    "\n",
    "4. Documentation and presentation. 25%. \n",
    "\n",
    "You have to start from primitive data types and consolidate to a final data frame. "
   ]
  },
  {
   "cell_type": "markdown",
   "id": "fd4869f6",
   "metadata": {},
   "source": [
    "## Data container design"
   ]
  },
  {
   "cell_type": "code",
   "execution_count": 15,
   "id": "2378e6e0",
   "metadata": {},
   "outputs": [
    {
     "data": {
      "text/plain": [
       "{'Name': ('Justin', 'Blake', 'Payton'),\n",
       " 'Age': [19, 18, 19],\n",
       " 'Gender': ['Male', 'Male', 'Male'],\n",
       " 'State': ['ND', 'WY', 'ND']}"
      ]
     },
     "execution_count": 15,
     "metadata": {},
     "output_type": "execute_result"
    }
   ],
   "source": [
    "dataFrame = {\n",
    "    \"Name\": (\"Justin\", \"Blake\", \"Payton\"), #tuple\n",
    "    \"Age\": [19, 18, 19], #list\n",
    "    \"Gender\": [\"Male\", \"Male\", \"Male\"], #list\n",
    "    \"State\": {\"ND\", \"WY\", \"ND\"}, #set\n",
    "} #dictionary\n",
    "\n",
    "data\n",
    "\n",
    "#df = pd.DataFrame(data)"
   ]
  },
  {
   "cell_type": "markdown",
   "id": "14a5c5ec",
   "metadata": {},
   "source": [
    "## PANDAS: READ, ADD, DROP"
   ]
  },
  {
   "cell_type": "code",
   "execution_count": 16,
   "id": "8ae748ef",
   "metadata": {},
   "outputs": [
    {
     "data": {
      "text/html": [
       "<div>\n",
       "<style scoped>\n",
       "    .dataframe tbody tr th:only-of-type {\n",
       "        vertical-align: middle;\n",
       "    }\n",
       "\n",
       "    .dataframe tbody tr th {\n",
       "        vertical-align: top;\n",
       "    }\n",
       "\n",
       "    .dataframe thead th {\n",
       "        text-align: right;\n",
       "    }\n",
       "</style>\n",
       "<table border=\"1\" class=\"dataframe\">\n",
       "  <thead>\n",
       "    <tr style=\"text-align: right;\">\n",
       "      <th></th>\n",
       "      <th>Name</th>\n",
       "      <th>Age</th>\n",
       "      <th>Gender</th>\n",
       "      <th>State</th>\n",
       "    </tr>\n",
       "  </thead>\n",
       "  <tbody>\n",
       "    <tr>\n",
       "      <th>0</th>\n",
       "      <td>Justin</td>\n",
       "      <td>19</td>\n",
       "      <td>Male</td>\n",
       "      <td>ND</td>\n",
       "    </tr>\n",
       "    <tr>\n",
       "      <th>1</th>\n",
       "      <td>Blake</td>\n",
       "      <td>18</td>\n",
       "      <td>Male</td>\n",
       "      <td>WY</td>\n",
       "    </tr>\n",
       "    <tr>\n",
       "      <th>2</th>\n",
       "      <td>Payton</td>\n",
       "      <td>19</td>\n",
       "      <td>Male</td>\n",
       "      <td>ND</td>\n",
       "    </tr>\n",
       "  </tbody>\n",
       "</table>\n",
       "</div>"
      ],
      "text/plain": [
       "     Name  Age Gender State\n",
       "0  Justin   19   Male    ND\n",
       "1   Blake   18   Male    WY\n",
       "2  Payton   19   Male    ND"
      ]
     },
     "execution_count": 16,
     "metadata": {},
     "output_type": "execute_result"
    }
   ],
   "source": [
    "import pandas as pd\n",
    "data = {\n",
    "    \"Name\": (\"Justin\", \"Blake\", \"Payton\"),\n",
    "    \"Age\": [19, 18, 19],\n",
    "    \"Gender\": [\"Male\", \"Male\", \"Male\"],\n",
    "    \"State\": [\"ND\", \"WY\", \"ND\"]\n",
    "} #dictionary\n",
    "\n",
    "df = pd.DataFrame(data)\n",
    "df"
   ]
  },
  {
   "cell_type": "code",
   "execution_count": 17,
   "id": "41b69a7b",
   "metadata": {},
   "outputs": [
    {
     "data": {
      "text/html": [
       "<div>\n",
       "<style scoped>\n",
       "    .dataframe tbody tr th:only-of-type {\n",
       "        vertical-align: middle;\n",
       "    }\n",
       "\n",
       "    .dataframe tbody tr th {\n",
       "        vertical-align: top;\n",
       "    }\n",
       "\n",
       "    .dataframe thead th {\n",
       "        text-align: right;\n",
       "    }\n",
       "</style>\n",
       "<table border=\"1\" class=\"dataframe\">\n",
       "  <thead>\n",
       "    <tr style=\"text-align: right;\">\n",
       "      <th></th>\n",
       "      <th>Name</th>\n",
       "      <th>Age</th>\n",
       "      <th>Gender</th>\n",
       "      <th>State</th>\n",
       "      <th>City</th>\n",
       "    </tr>\n",
       "  </thead>\n",
       "  <tbody>\n",
       "    <tr>\n",
       "      <th>0</th>\n",
       "      <td>Justin</td>\n",
       "      <td>19</td>\n",
       "      <td>Male</td>\n",
       "      <td>ND</td>\n",
       "      <td>Linton</td>\n",
       "    </tr>\n",
       "    <tr>\n",
       "      <th>1</th>\n",
       "      <td>Blake</td>\n",
       "      <td>18</td>\n",
       "      <td>Male</td>\n",
       "      <td>WY</td>\n",
       "      <td>Hazelton</td>\n",
       "    </tr>\n",
       "    <tr>\n",
       "      <th>2</th>\n",
       "      <td>Payton</td>\n",
       "      <td>19</td>\n",
       "      <td>Male</td>\n",
       "      <td>ND</td>\n",
       "      <td>Linton</td>\n",
       "    </tr>\n",
       "  </tbody>\n",
       "</table>\n",
       "</div>"
      ],
      "text/plain": [
       "     Name  Age Gender State      City\n",
       "0  Justin   19   Male    ND    Linton\n",
       "1   Blake   18   Male    WY  Hazelton\n",
       "2  Payton   19   Male    ND    Linton"
      ]
     },
     "execution_count": 17,
     "metadata": {},
     "output_type": "execute_result"
    }
   ],
   "source": [
    "df[\"City\"] = [\"Linton\", \"Hazelton\", \"Linton\"]\n",
    "df"
   ]
  },
  {
   "cell_type": "code",
   "execution_count": 18,
   "id": "b603782f",
   "metadata": {},
   "outputs": [
    {
     "data": {
      "text/html": [
       "<div>\n",
       "<style scoped>\n",
       "    .dataframe tbody tr th:only-of-type {\n",
       "        vertical-align: middle;\n",
       "    }\n",
       "\n",
       "    .dataframe tbody tr th {\n",
       "        vertical-align: top;\n",
       "    }\n",
       "\n",
       "    .dataframe thead th {\n",
       "        text-align: right;\n",
       "    }\n",
       "</style>\n",
       "<table border=\"1\" class=\"dataframe\">\n",
       "  <thead>\n",
       "    <tr style=\"text-align: right;\">\n",
       "      <th></th>\n",
       "      <th>Name</th>\n",
       "      <th>Age</th>\n",
       "      <th>Gender</th>\n",
       "      <th>State</th>\n",
       "    </tr>\n",
       "  </thead>\n",
       "  <tbody>\n",
       "    <tr>\n",
       "      <th>0</th>\n",
       "      <td>Justin</td>\n",
       "      <td>19</td>\n",
       "      <td>Male</td>\n",
       "      <td>ND</td>\n",
       "    </tr>\n",
       "    <tr>\n",
       "      <th>1</th>\n",
       "      <td>Blake</td>\n",
       "      <td>18</td>\n",
       "      <td>Male</td>\n",
       "      <td>WY</td>\n",
       "    </tr>\n",
       "    <tr>\n",
       "      <th>2</th>\n",
       "      <td>Payton</td>\n",
       "      <td>19</td>\n",
       "      <td>Male</td>\n",
       "      <td>ND</td>\n",
       "    </tr>\n",
       "  </tbody>\n",
       "</table>\n",
       "</div>"
      ],
      "text/plain": [
       "     Name  Age Gender State\n",
       "0  Justin   19   Male    ND\n",
       "1   Blake   18   Male    WY\n",
       "2  Payton   19   Male    ND"
      ]
     },
     "execution_count": 18,
     "metadata": {},
     "output_type": "execute_result"
    }
   ],
   "source": [
    "df.drop(\"City\", axis=1, inplace=True)\n",
    "df"
   ]
  },
  {
   "cell_type": "markdown",
   "id": "7d40d1ac",
   "metadata": {},
   "source": [
    "# GitHub Link"
   ]
  },
  {
   "cell_type": "code",
   "execution_count": null,
   "id": "0e5ba620",
   "metadata": {},
   "outputs": [],
   "source": []
  }
 ],
 "metadata": {
  "kernelspec": {
   "display_name": "Python 3 (ipykernel)",
   "language": "python",
   "name": "python3"
  },
  "language_info": {
   "codemirror_mode": {
    "name": "ipython",
    "version": 3
   },
   "file_extension": ".py",
   "mimetype": "text/x-python",
   "name": "python",
   "nbconvert_exporter": "python",
   "pygments_lexer": "ipython3",
   "version": "3.12.3"
  }
 },
 "nbformat": 4,
 "nbformat_minor": 5
}
