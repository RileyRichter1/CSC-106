{
 "cells": [
  {
   "cell_type": "markdown",
   "id": "9c2dfbd7",
   "metadata": {},
   "source": [
    "# y = mx + c"
   ]
  },
  {
   "cell_type": "code",
   "execution_count": 2,
   "id": "25af2834",
   "metadata": {},
   "outputs": [],
   "source": [
    "m=1\n",
    "x=1\n",
    "c=1"
   ]
  },
  {
   "cell_type": "code",
   "execution_count": 5,
   "id": "f7f0cfe5",
   "metadata": {},
   "outputs": [],
   "source": [
    "y=m*x+c"
   ]
  },
  {
   "cell_type": "code",
   "execution_count": 7,
   "id": "8e5771bb",
   "metadata": {},
   "outputs": [
    {
     "data": {
      "text/plain": [
       "2"
      ]
     },
     "execution_count": 7,
     "metadata": {},
     "output_type": "execute_result"
    }
   ],
   "source": [
    "y"
   ]
  },
  {
   "cell_type": "code",
   "execution_count": 20,
   "id": "1e09f0a6",
   "metadata": {},
   "outputs": [
    {
     "name": "stdout",
     "output_type": "stream",
     "text": [
      "No solution\n"
     ]
    }
   ],
   "source": [
    "a = 1\n",
    "b = 1\n",
    "c = 1\n",
    "\n",
    "D = b*b-4*a*c\n",
    "\n",
    "import math\n",
    "\n",
    "if D >= 0:\n",
    "    x1=-(b+math.sqrt(D))/(2*a)\n",
    "    x2=-(b-math.sqrt(D))/(2*a)\n",
    "    print(\"x = {\"+str(x1)+\", \"+str(x2)+\"}\")\n",
    "else:\n",
    "    print(\"No solution\")\n"
   ]
  },
  {
   "cell_type": "code",
   "execution_count": 21,
   "id": "5b9d1fe7",
   "metadata": {},
   "outputs": [
    {
     "name": "stdout",
     "output_type": "stream",
     "text": [
      "x = {2.0, 3.0}\n"
     ]
    }
   ],
   "source": [
    "a = 1\n",
    "b = -5\n",
    "c = 6\n",
    "\n",
    "D = b*b-4*a*c\n",
    "\n",
    "import math\n",
    "\n",
    "if D >= 0:\n",
    "    x1=-(b+math.sqrt(D))/(2*a)\n",
    "    x2=-(b-math.sqrt(D))/(2*a)\n",
    "    print(\"x = {\"+str(x1)+\", \"+str(x2)+\"}\")\n",
    "else:\n",
    "    print(\"No solution\")"
   ]
  },
  {
   "cell_type": "code",
   "execution_count": null,
   "id": "da756e92",
   "metadata": {},
   "outputs": [],
   "source": []
  }
 ],
 "metadata": {
  "kernelspec": {
   "display_name": "Python 3 (ipykernel)",
   "language": "python",
   "name": "python3"
  },
  "language_info": {
   "codemirror_mode": {
    "name": "ipython",
    "version": 3
   },
   "file_extension": ".py",
   "mimetype": "text/x-python",
   "name": "python",
   "nbconvert_exporter": "python",
   "pygments_lexer": "ipython3",
   "version": "3.12.3"
  }
 },
 "nbformat": 4,
 "nbformat_minor": 5
}
