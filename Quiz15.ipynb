{
 "cells": [
  {
   "cell_type": "markdown",
   "id": "4c600ab7",
   "metadata": {},
   "source": [
    "# Quiz 15 - Riley Richter"
   ]
  },
  {
   "cell_type": "code",
   "execution_count": 19,
   "id": "3406e96f",
   "metadata": {},
   "outputs": [
    {
     "name": "stdout",
     "output_type": "stream",
     "text": [
      "*       *\n",
      " *     * \n",
      "    *    \n"
     ]
    }
   ],
   "source": [
    "smileLines = [\"*       *\", \" *     * \", \"    *    \"]\n",
    "\n",
    "for x in range(3):\n",
    "    print(smileLines[x])"
   ]
  },
  {
   "cell_type": "markdown",
   "id": "b18c24ed",
   "metadata": {},
   "source": [
    "# GitHub Link"
   ]
  },
  {
   "cell_type": "code",
   "execution_count": null,
   "id": "9a923489",
   "metadata": {},
   "outputs": [],
   "source": []
  }
 ],
 "metadata": {
  "kernelspec": {
   "display_name": "Python 3 (ipykernel)",
   "language": "python",
   "name": "python3"
  },
  "language_info": {
   "codemirror_mode": {
    "name": "ipython",
    "version": 3
   },
   "file_extension": ".py",
   "mimetype": "text/x-python",
   "name": "python",
   "nbconvert_exporter": "python",
   "pygments_lexer": "ipython3",
   "version": "3.12.3"
  }
 },
 "nbformat": 4,
 "nbformat_minor": 5
}
