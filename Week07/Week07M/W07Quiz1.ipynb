{
 "cells": [
  {
   "cell_type": "markdown",
   "id": "9b831b15",
   "metadata": {},
   "source": [
    "# W07 Quiz1"
   ]
  },
  {
   "cell_type": "markdown",
   "id": "dd5262c3",
   "metadata": {},
   "source": [
    "## Q1 : What is wrong with this code? Explain. (4 marks) "
   ]
  },
  {
   "cell_type": "code",
   "execution_count": 7,
   "id": "c5172b84",
   "metadata": {},
   "outputs": [],
   "source": [
    "while i < 6:\n",
    "  print(i)\n",
    "  i += 1"
   ]
  },
  {
   "cell_type": "markdown",
   "id": "c069a09b",
   "metadata": {},
   "source": [
    "You did not set variable i = 0:"
   ]
  },
  {
   "cell_type": "code",
   "execution_count": 8,
   "id": "23c60a9d",
   "metadata": {},
   "outputs": [
    {
     "name": "stdout",
     "output_type": "stream",
     "text": [
      "0\n",
      "1\n",
      "2\n",
      "3\n",
      "4\n",
      "5\n"
     ]
    }
   ],
   "source": [
    "i=0\n",
    "while i < 6:\n",
    "  print(i)\n",
    "  i += 1"
   ]
  },
  {
   "cell_type": "markdown",
   "id": "0a04b6fc",
   "metadata": {},
   "source": [
    "## Q2 : Fill in the blank. (3 marks)"
   ]
  },
  {
   "cell_type": "code",
   "execution_count": 9,
   "id": "9f243b61",
   "metadata": {},
   "outputs": [
    {
     "name": "stdout",
     "output_type": "stream",
     "text": [
      "apple\n"
     ]
    }
   ],
   "source": [
    "fruits = [\"apple\", \"banana\", \"cherry\"]\n",
    "\n",
    "#for x in ________:\n",
    "for x in fruits:\n",
    "  if x == \"banana\":\n",
    "    break\n",
    "  print(x)"
   ]
  },
  {
   "cell_type": "markdown",
   "id": "d81d7299",
   "metadata": {},
   "source": [
    "## Q3 : What is the output? (3 marks)"
   ]
  },
  {
   "cell_type": "code",
   "execution_count": 10,
   "id": "c87dfcc6",
   "metadata": {},
   "outputs": [],
   "source": [
    "a = 33\n",
    "b = 200\n",
    "if b < a:\n",
    "  print(\"b is greater than a\")"
   ]
  },
  {
   "cell_type": "markdown",
   "id": "8d3bcbb4",
   "metadata": {},
   "source": [
    "There is not output because you have \"if b < a:\" it should instead be \"if b > a:\""
   ]
  },
  {
   "cell_type": "code",
   "execution_count": 11,
   "id": "d1a6dbe1",
   "metadata": {},
   "outputs": [
    {
     "name": "stdout",
     "output_type": "stream",
     "text": [
      "b is greater than a\n"
     ]
    }
   ],
   "source": [
    "a = 33\n",
    "b = 200\n",
    "if b > a:\n",
    "  print(\"b is greater than a\")"
   ]
  },
  {
   "cell_type": "code",
   "execution_count": null,
   "id": "e9fe1536",
   "metadata": {},
   "outputs": [],
   "source": []
  },
  {
   "cell_type": "code",
   "execution_count": null,
   "id": "188e1427",
   "metadata": {},
   "outputs": [],
   "source": []
  }
 ],
 "metadata": {
  "kernelspec": {
   "display_name": "Python 3 (ipykernel)",
   "language": "python",
   "name": "python3"
  },
  "language_info": {
   "codemirror_mode": {
    "name": "ipython",
    "version": 3
   },
   "file_extension": ".py",
   "mimetype": "text/x-python",
   "name": "python",
   "nbconvert_exporter": "python",
   "pygments_lexer": "ipython3",
   "version": "3.12.3"
  }
 },
 "nbformat": 4,
 "nbformat_minor": 5
}
