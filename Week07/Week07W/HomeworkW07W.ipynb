{
 "cells": [
  {
   "cell_type": "markdown",
   "id": "c75449b5",
   "metadata": {},
   "source": [
    "# Homework W07W"
   ]
  },
  {
   "cell_type": "markdown",
   "id": "14ca51df",
   "metadata": {},
   "source": [
    "## Question 1 : Using the \"Try Throw Catch\" mechanism, we would like to capture human mistakes. \n",
    "\n",
    "      Scenario 1 : Name : Ja9ck (3 marks)\n",
    "\n",
    "      Scenario 2 : Phone Number : (7O1) 355-8030 (3 marks)\n",
    "\n",
    "      Scenario 3 : enroll2umary.edu (4 marks)"
   ]
  },
  {
   "cell_type": "markdown",
   "id": "9c386d12",
   "metadata": {},
   "source": [
    "### Scenario 1 : Name : Ja9ck (3 marks)"
   ]
  },
  {
   "cell_type": "code",
   "execution_count": 32,
   "id": "ed81b5f2",
   "metadata": {},
   "outputs": [
    {
     "name": "stdout",
     "output_type": "stream",
     "text": [
      "Oops! Your name cantains a number. Try again.\n",
      "Success. Valid name.\n"
     ]
    }
   ],
   "source": [
    "#trying \"Ja9ck\"\n",
    "name = \"Ja9ck\"\n",
    "try:\n",
    "    for char in name: #for loop for each character in the string\n",
    "        if char in \"0123456789\": #check if the character has a number in it\n",
    "            raise ValueError\n",
    "    print(\"Success. Valid name.\")\n",
    "except ValueError:\n",
    "    print(\"Oops! Your name cantains a number. Try again.\")\n",
    "    \n",
    "#trying \"Jack\"\n",
    "name = \"Jack\"\n",
    "try:\n",
    "    for char in name:\n",
    "        if char in \"0123456789\":\n",
    "            raise ValueError\n",
    "    print(\"Success. Valid name.\")\n",
    "except ValueError:\n",
    "    print(\"Oops! Your name cantains a number. Try again.\")"
   ]
  },
  {
   "cell_type": "markdown",
   "id": "cd4a7ec5",
   "metadata": {},
   "source": [
    "### Scenario 2 : Phone Number : (7O1) 355-8030 (3 marks)"
   ]
  },
  {
   "cell_type": "code",
   "execution_count": 33,
   "id": "31b0484e",
   "metadata": {},
   "outputs": [
    {
     "name": "stdout",
     "output_type": "stream",
     "text": [
      "Oops! That's an invalid phone number. Try again.\n",
      "Success. Valid phone number.\n",
      "Success. Valid phone number.\n"
     ]
    }
   ],
   "source": [
    "#trying \"(7O1) 355-8030\"\n",
    "phone = \"(7O1) 355-8030\"\n",
    "try:\n",
    "    for char in phone: #for loop for each character in the string\n",
    "        if char not in \"0123456789()- \": #cmake sure each character is only a number, paraanthesis, or dash\n",
    "            raise ValueError\n",
    "    print(\"Success. Valid phone number.\")\n",
    "except ValueError:\n",
    "    print(\"Oops! That's an invalid phone number. Try again.\")\n",
    "    \n",
    "#trying \"(701) 355-8030\"\n",
    "phone = \"(701) 355-8030\"\n",
    "try:\n",
    "    for char in phone:\n",
    "        if char not in \"0123456789()- \":\n",
    "            raise ValueError\n",
    "    print(\"Success. Valid phone number.\")\n",
    "except ValueError:\n",
    "    print(\"Oops! That's an invalid phone number. Try again.\")\n",
    "    \n",
    "#trying \"7013558030\"\n",
    "phone = \"7013558030\"\n",
    "try:\n",
    "    for char in phone:\n",
    "        if char not in \"0123456789()- \":\n",
    "            raise ValueError\n",
    "    print(\"Success. Valid phone number.\")\n",
    "except ValueError:\n",
    "    print(\"Oops! That's an invalid phone number. Try again.\")"
   ]
  },
  {
   "cell_type": "markdown",
   "id": "bff6db89",
   "metadata": {},
   "source": [
    "### Scenario 3 : enroll2umary.edu (4 marks)"
   ]
  },
  {
   "cell_type": "code",
   "execution_count": 34,
   "id": "d78fbfe8",
   "metadata": {},
   "outputs": [
    {
     "name": "stdout",
     "output_type": "stream",
     "text": [
      "Oops! That's an invalid email. Try again.\n",
      "Success. Valid email.\n"
     ]
    }
   ],
   "source": [
    "#trying \"enroll2umary.edu\"\n",
    "\n",
    "email = \"enroll2umary.edu\"\n",
    "try:\n",
    "    if \"@\" not in email: #check if @ symbol is in the string\n",
    "        raise ValueError\n",
    "    print(\"Success. Valid email.\")\n",
    "except ValueError:\n",
    "    print(\"Oops! That's an invalid email. Try again.\")\n",
    "    \n",
    "#trying \"enroll@umary.edu\"\n",
    "email = \"enroll@umary.edu\"\n",
    "try:\n",
    "    if \"@\" not in email:\n",
    "        raise ValueError\n",
    "    print(\"Success. Valid email.\")\n",
    "except ValueError:\n",
    "    print(\"Oops! That's an invalid email. Try again.\")"
   ]
  },
  {
   "cell_type": "code",
   "execution_count": null,
   "id": "27e9319d",
   "metadata": {},
   "outputs": [],
   "source": []
  }
 ],
 "metadata": {
  "kernelspec": {
   "display_name": "Python 3 (ipykernel)",
   "language": "python",
   "name": "python3"
  },
  "language_info": {
   "codemirror_mode": {
    "name": "ipython",
    "version": 3
   },
   "file_extension": ".py",
   "mimetype": "text/x-python",
   "name": "python",
   "nbconvert_exporter": "python",
   "pygments_lexer": "ipython3",
   "version": "3.12.3"
  }
 },
 "nbformat": 4,
 "nbformat_minor": 5
}
