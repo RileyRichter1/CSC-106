{
 "cells": [
  {
   "cell_type": "code",
   "execution_count": 1,
   "id": "887ae914",
   "metadata": {},
   "outputs": [
    {
     "name": "stdout",
     "output_type": "stream",
     "text": [
      "\n",
      "\n",
      "Hallo\n"
     ]
    }
   ],
   "source": [
    "print(\"\\n\\nHallo\")"
   ]
  },
  {
   "cell_type": "code",
   "execution_count": 2,
   "id": "8b03fad6",
   "metadata": {},
   "outputs": [
    {
     "name": "stdout",
     "output_type": "stream",
     "text": [
      "\tHallo\n"
     ]
    }
   ],
   "source": [
    "print(\"\\tHallo\")"
   ]
  },
  {
   "cell_type": "code",
   "execution_count": 3,
   "id": "37aa96af",
   "metadata": {},
   "outputs": [
    {
     "name": "stdout",
     "output_type": "stream",
     "text": [
      "                          Hallo\n"
     ]
    }
   ],
   "source": [
    "print(\"                          Hallo\")"
   ]
  },
  {
   "cell_type": "code",
   "execution_count": 4,
   "id": "406454b4",
   "metadata": {},
   "outputs": [
    {
     "name": "stdout",
     "output_type": "stream",
     "text": [
      "          *           *\n",
      "         * *         * *\n",
      "        *   *       *   *\n",
      "       *     *     *     *\n",
      "      *       *   *       *\n",
      "     *         * *         *\n",
      "* * *           *           * * *\n"
     ]
    }
   ],
   "source": [
    "print(\"          *           *\")\n",
    "print(\"         * *         * *\")\n",
    "print(\"        *   *       *   *\")\n",
    "print(\"       *     *     *     *\")\n",
    "print(\"      *       *   *       *\")\n",
    "print(\"     *         * *         *\")\n",
    "print(\"* * *           *           * * *\")"
   ]
  },
  {
   "cell_type": "markdown",
   "id": "d6922634",
   "metadata": {},
   "source": [
    "# Question 1"
   ]
  },
  {
   "cell_type": "markdown",
   "id": "e0909b09",
   "metadata": {},
   "source": [
    "Using '*' (star) and Escape Sequence Characters create the shape 'M' in University of Mary.  "
   ]
  },
  {
   "cell_type": "code",
   "execution_count": 5,
   "id": "ba696272",
   "metadata": {},
   "outputs": [
    {
     "name": "stdout",
     "output_type": "stream",
     "text": [
      "          *           *\n",
      "         * *         * *\n",
      "        *   *       *   *\n",
      "       *     *     *     *\n",
      "      *       *   *       *\n",
      "     *         * *         *\n",
      "* * *           *           * * *\n"
     ]
    }
   ],
   "source": [
    "print(\"          *           *\")\n",
    "print(\"         * *         * *\")\n",
    "print(\"        *   *       *   *\")\n",
    "print(\"       *     *     *     *\")\n",
    "print(\"      *       *   *       *\")\n",
    "print(\"     *         * *         *\")\n",
    "print(\"* * *           *           * * *\")"
   ]
  },
  {
   "cell_type": "code",
   "execution_count": null,
   "id": "c98c8ba8",
   "metadata": {},
   "outputs": [],
   "source": []
  }
 ],
 "metadata": {
  "kernelspec": {
   "display_name": "Python 3 (ipykernel)",
   "language": "python",
   "name": "python3"
  },
  "language_info": {
   "codemirror_mode": {
    "name": "ipython",
    "version": 3
   },
   "file_extension": ".py",
   "mimetype": "text/x-python",
   "name": "python",
   "nbconvert_exporter": "python",
   "pygments_lexer": "ipython3",
   "version": "3.12.3"
  }
 },
 "nbformat": 4,
 "nbformat_minor": 5
}
