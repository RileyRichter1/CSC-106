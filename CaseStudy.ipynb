{
 "cells": [
  {
   "cell_type": "markdown",
   "id": "5fe14015",
   "metadata": {},
   "source": [
    "# Case Study - Riley Richter"
   ]
  },
  {
   "cell_type": "markdown",
   "id": "0e31e81a",
   "metadata": {},
   "source": [
    "### 1. Sort the numbers in increasing order. \n",
    "\n",
    "     [5, 4, 3, 2, 1] "
   ]
  },
  {
   "cell_type": "code",
   "execution_count": 51,
   "id": "7f99bbcd",
   "metadata": {},
   "outputs": [
    {
     "name": "stdout",
     "output_type": "stream",
     "text": [
      "[1, 2, 3, 4, 5]\n"
     ]
    }
   ],
   "source": [
    "array1 = [5, 4, 3, 2, 1] \n",
    "\n",
    "def sortInc(array):\n",
    "    for x in range(len(array)):\n",
    "        for i in range(len(array)-1):\n",
    "            if(array[i] > array[i+1]):\n",
    "                array[i], array[i+1] = array[i+1], array[i]\n",
    "    print(array)\n",
    "    \n",
    "sortInc(array1)"
   ]
  },
  {
   "cell_type": "markdown",
   "id": "08b5ab99",
   "metadata": {},
   "source": [
    "### 2. Sort the numbers in decreasing order. \n",
    "\n",
    "     [1, 2, 3, 4, 5]"
   ]
  },
  {
   "cell_type": "code",
   "execution_count": 52,
   "id": "442a7168",
   "metadata": {},
   "outputs": [
    {
     "name": "stdout",
     "output_type": "stream",
     "text": [
      "[5, 4, 3, 2, 1]\n"
     ]
    }
   ],
   "source": [
    "array1 = [1, 2, 3, 4, 5]\n",
    "\n",
    "def sortDecr(array):\n",
    "    for x in range(len(array)):\n",
    "        for i in range(len(array)-1):\n",
    "            if(array[i] < array[i+1]):\n",
    "                array[i], array[i+1] = array[i+1], array[i]\n",
    "    print(array)\n",
    "\n",
    "sortDecr(array1)"
   ]
  },
  {
   "cell_type": "markdown",
   "id": "911833c3",
   "metadata": {},
   "source": [
    "### 3. Search for the largest number. \n",
    "\n",
    "     [5, 4, 3, 2, 1]\n",
    "\n",
    "     [1, 2, 3, 4, 5]"
   ]
  },
  {
   "cell_type": "code",
   "execution_count": 53,
   "id": "45535722",
   "metadata": {},
   "outputs": [
    {
     "name": "stdout",
     "output_type": "stream",
     "text": [
      "The largest number in [5, 4, 3, 2, 1] is: 5\n",
      "The largest number in [1, 2, 3, 4, 5] is: 5\n"
     ]
    }
   ],
   "source": [
    "array1 = [5, 4, 3, 2, 1]\n",
    "array2 = [1, 2, 3, 4, 5]\n",
    "\n",
    "def findLargest(array):\n",
    "    largest = array[0]\n",
    "    for i in range(1, len(array)):\n",
    "        if (array[i] > largest):\n",
    "            largest = array[i]\n",
    "    print(\"The largest number in \" + str(array) +\" is: \" + str(largest))\n",
    "\n",
    "findLargest(array1)\n",
    "findLargest(array2)"
   ]
  },
  {
   "cell_type": "markdown",
   "id": "93d33639",
   "metadata": {},
   "source": [
    "### 4. Search for the smallest number. \n",
    "\n",
    "     [5, 4, 3, 2, 1]\n",
    "\n",
    "     [1, 2, 3, 4, 5]"
   ]
  },
  {
   "cell_type": "code",
   "execution_count": 54,
   "id": "c9bfcc4f",
   "metadata": {},
   "outputs": [
    {
     "name": "stdout",
     "output_type": "stream",
     "text": [
      "The smallest number in [5, 4, 3, 2, 1] is: 1\n",
      "The smallest number in [1, 2, 3, 4, 5] is: 1\n"
     ]
    }
   ],
   "source": [
    "array1 = [5, 4, 3, 2, 1]\n",
    "array2 = [1, 2, 3, 4, 5]\n",
    "\n",
    "def findSmallest(array):\n",
    "    smallest = array[0]\n",
    "    for i in range(1, len(array)):\n",
    "        if (array[i] < smallest):\n",
    "            smallest = array[i]\n",
    "    print(\"The smallest number in \" + str(array) +\" is: \" + str(smallest))\n",
    "\n",
    "findSmallest(array1)\n",
    "findSmallest(array2)"
   ]
  },
  {
   "cell_type": "code",
   "execution_count": null,
   "id": "ca4c9423",
   "metadata": {},
   "outputs": [],
   "source": []
  },
  {
   "cell_type": "code",
   "execution_count": null,
   "id": "0646e115",
   "metadata": {},
   "outputs": [],
   "source": []
  }
 ],
 "metadata": {
  "kernelspec": {
   "display_name": "Python 3 (ipykernel)",
   "language": "python",
   "name": "python3"
  },
  "language_info": {
   "codemirror_mode": {
    "name": "ipython",
    "version": 3
   },
   "file_extension": ".py",
   "mimetype": "text/x-python",
   "name": "python",
   "nbconvert_exporter": "python",
   "pygments_lexer": "ipython3",
   "version": "3.12.3"
  }
 },
 "nbformat": 4,
 "nbformat_minor": 5
}
