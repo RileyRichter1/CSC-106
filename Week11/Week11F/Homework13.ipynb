{
 "cells": [
  {
   "cell_type": "markdown",
   "id": "aaef30e4",
   "metadata": {},
   "source": [
    "# Homework 13 - Riley Richter"
   ]
  },
  {
   "cell_type": "markdown",
   "id": "98bb40f5",
   "metadata": {},
   "source": [
    "# Q1"
   ]
  },
  {
   "cell_type": "markdown",
   "id": "c44bc102",
   "metadata": {},
   "source": [
    "Using OOP, implement classes/objects for the following project idea in python : Computer design.\n",
    "\n",
    "The design has 2 approaches : Minimal and Nice to have. (50 points for Minimal and 50 points for Nice to have) \n",
    "\n",
    "use the attached image as a guide for defining the data members and member functions. "
   ]
  },
  {
   "cell_type": "markdown",
   "id": "6bf47291",
   "metadata": {},
   "source": [
    "# Blueprint"
   ]
  },
  {
   "cell_type": "code",
   "execution_count": 21,
   "id": "81515c71",
   "metadata": {},
   "outputs": [],
   "source": [
    "class CPU:\n",
    "    def __init__(self, model, cores, speed):\n",
    "        self.model = model\n",
    "        self.cores = cores\n",
    "        self.speed = speed\n",
    "\n",
    "    def displaySpecs(self):\n",
    "        return \"CPU: \" + self.model + \", \" + str(self.cores) + \" cores at \" + str(self.speed) + \" GHz\"\n",
    "\n",
    "class GPU:\n",
    "    def __init__(self, model, memory):\n",
    "        self.model = model\n",
    "        self.memory = memory\n",
    "\n",
    "    def displaySpecs(self):\n",
    "        return \"GPU: \" + self.model + \", \" + str(self.memory) + \" GB\"\n",
    "    \n",
    "class RAM:\n",
    "    def __init__(self, capacity, speed):\n",
    "        self.capacity = capacity\n",
    "        self.speed = speed\n",
    "\n",
    "    def displaySpecs(self):\n",
    "        return \"RAM: \" + str(self.capacity) + \" GB, \" + str(self.speed) + \" MHz\"\n",
    "\n",
    "class Storage:\n",
    "    def __init__(self, type_, capacity):\n",
    "        self.type = type_\n",
    "        self.capacity = capacity\n",
    "\n",
    "    def displaySpecs(self):\n",
    "        return \"Storage: \" + self.capacity + \" \" + self.type\n",
    "\n",
    "\n",
    "class Computer:\n",
    "    def __init__(self, cpu, gpu, ram, storage):\n",
    "        self.cpu = cpu\n",
    "        self.gpu = gpu\n",
    "        self.ram = ram\n",
    "        self.storage = storage\n",
    "\n",
    "    def displaySpecs(self):\n",
    "        print(\"Computer Specifications:\")\n",
    "        print(self.cpu.displaySpecs())\n",
    "        print(self.gpu.displaySpecs())\n",
    "        print(self.ram.displaySpecs())\n",
    "        print(self.storage.displaySpecs())\n",
    "        \n",
    "    # Nice to have functions\n",
    "        \n",
    "    def calculatePower(self):\n",
    "        return 200\n",
    "\n",
    "    def compatibilityCheck(self):\n",
    "        return \"All components are compatible!\""
   ]
  },
  {
   "cell_type": "markdown",
   "id": "d6d0c5cf",
   "metadata": {},
   "source": [
    "## Output"
   ]
  },
  {
   "cell_type": "code",
   "execution_count": 22,
   "id": "a65b0529",
   "metadata": {},
   "outputs": [
    {
     "name": "stdout",
     "output_type": "stream",
     "text": [
      "Computer Specifications:\n",
      "CPU: Intel Core i5-10400, 6 cores at 2.9 GHz\n",
      "GPU: NVIDIA GTX 1050 Ti, 4 GB\n",
      "RAM: 8 GB, 2400 MHz\n",
      "Storage: 1TB HDD\n",
      "Estimated Power Consumption: 200 W\n",
      "Compatibility Check: All components are compatible!\n"
     ]
    }
   ],
   "source": [
    "cpu = CPU(\"Intel Core i5-10400\", 6, 2.9)\n",
    "gpu = GPU(\"NVIDIA GTX 1050 Ti\", 4)\n",
    "ram = RAM(8, 2400)\n",
    "storage = Storage(\"HDD\", \"1TB\")\n",
    "\n",
    "myComputer = Computer(cpu, gpu, ram, storage)\n",
    "\n",
    "myComputer.displaySpecs()\n",
    "print(\"Estimated Power Consumption: \" + str(myComputer.calculatePower()) + \" W\")\n",
    "print(\"Compatibility Check: \" + myComputer.compatibilityCheck())"
   ]
  },
  {
   "cell_type": "code",
   "execution_count": null,
   "id": "f2832f98",
   "metadata": {},
   "outputs": [],
   "source": []
  }
 ],
 "metadata": {
  "kernelspec": {
   "display_name": "Python 3 (ipykernel)",
   "language": "python",
   "name": "python3"
  },
  "language_info": {
   "codemirror_mode": {
    "name": "ipython",
    "version": 3
   },
   "file_extension": ".py",
   "mimetype": "text/x-python",
   "name": "python",
   "nbconvert_exporter": "python",
   "pygments_lexer": "ipython3",
   "version": "3.12.3"
  }
 },
 "nbformat": 4,
 "nbformat_minor": 5
}
