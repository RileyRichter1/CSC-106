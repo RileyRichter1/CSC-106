{
 "cells": [
  {
   "cell_type": "markdown",
   "id": "343b001f",
   "metadata": {},
   "source": [
    "# Homework 13 - Riley Richter"
   ]
  },
  {
   "cell_type": "markdown",
   "id": "005ed371",
   "metadata": {},
   "source": [
    "# Q1"
   ]
  },
  {
   "cell_type": "markdown",
   "id": "c799ce83",
   "metadata": {},
   "source": [
    "Using OOP, implement classes/objects for the following project idea in python : Computer design.\n",
    "\n",
    "The design has 2 approaches : Minimal and Nice to have. (50 points for Minimal and 50 points for Nice to have) \n",
    "\n",
    "use the attached image as a guide for defining the data members and member functions. "
   ]
  },
  {
   "cell_type": "markdown",
   "id": "e7bf40e6",
   "metadata": {},
   "source": [
    "# Blueprint"
   ]
  },
  {
   "cell_type": "code",
   "execution_count": 18,
   "id": "9eaab71f",
   "metadata": {},
   "outputs": [],
   "source": [
    "class CPU:\n",
    "    def __init__(self, model, cores, speed):\n",
    "        self.model = model\n",
    "        self.cores = cores\n",
    "        self.speed = speed\n",
    "\n",
    "    def displaySpecs(self):\n",
    "        return \"CPU: \" + self.model + \", \" + str(self.cores) + \" cores at \" + str(self.speed) + \" GHz\"\n",
    "\n",
    "class GPU:\n",
    "    def __init__(self, model, memory):\n",
    "        self.model = model\n",
    "        self.memory = memory\n",
    "\n",
    "    def displaySpecs(self):\n",
    "        return \"GPU: \" + self.model + \", \" + str(self.memory) + \" GB\"\n",
    "    \n",
    "class RAM:\n",
    "    def __init__(self, capacity, speed):\n",
    "        self.capacity = capacity\n",
    "        self.speed = speed\n",
    "\n",
    "    def displaySpecs(self):\n",
    "        return \"RAM: \" + str(self.capacity) + \" GB, \" + str(self.speed) + \" MHz\"\n",
    "\n",
    "class Storage:\n",
    "    def __init__(self, type_, capacity):\n",
    "        self.type = type_\n",
    "        self.capacity = capacity\n",
    "\n",
    "    def displaySpecs(self):\n",
    "        return \"Storage: \" + self.capacity + \" \" + self.type\n",
    "\n",
    "\n",
    "class Computer:\n",
    "    def __init__(self, cpu, gpu, ram, storage):\n",
    "        self.cpu = cpu\n",
    "        self.gpu = gpu\n",
    "        self.ram = ram\n",
    "        self.storage = storage\n",
    "\n",
    "    def displaySpecs(self):\n",
    "        print(\"Computer Specifications:\")\n",
    "        print(self.cpu.displaySpecs())\n",
    "        print(self.gpu.displaySpecs())\n",
    "        print(self.ram.displaySpecs())\n",
    "        print(self.storage.displaySpecs())\n",
    "        \n",
    "    def calculatePower(self):\n",
    "        return 200\n",
    "\n",
    "    def compatibilityCheck(self):\n",
    "        return \"All components are compatible!\""
   ]
  },
  {
   "cell_type": "markdown",
   "id": "8e8f2bea",
   "metadata": {},
   "source": [
    "## Output"
   ]
  },
  {
   "cell_type": "code",
   "execution_count": 19,
   "id": "495a646c",
   "metadata": {},
   "outputs": [
    {
     "name": "stdout",
     "output_type": "stream",
     "text": [
      "Computer Specifications:\n",
      "CPU: Intel Core i7-3770K, 4 cores at 3.5 GHz\n",
      "GPU: SAPPHIRE HD 7950, 3 GB\n",
      "RAM: 16 GB, 1866 MHz\n",
      "Storage: 256GB SSD\n",
      "Estimated Power Consumption: 200 W\n",
      "Compatibility Check: All components are compatible!\n"
     ]
    }
   ],
   "source": [
    "cpu = CPU(\"Intel Core i7-3770K\", 4, 3.5)\n",
    "gpu = GPU(\"SAPPHIRE HD 7950\", 3)\n",
    "ram = RAM(16, 1866)\n",
    "storage = Storage(\"SSD\", \"256GB\")\n",
    "\n",
    "myComputer = Computer(cpu, gpu, ram, storage)\n",
    "\n",
    "myComputer.displaySpecs()\n",
    "print(\"Estimated Power Consumption: \" + str(myComputer.calculatePower()) + \" W\")\n",
    "print(\"Compatibility Check: \" + myComputer.compatibilityCheck())"
   ]
  },
  {
   "cell_type": "code",
   "execution_count": null,
   "id": "5a9eb79a",
   "metadata": {},
   "outputs": [],
   "source": []
  }
 ],
 "metadata": {
  "kernelspec": {
   "display_name": "Python 3 (ipykernel)",
   "language": "python",
   "name": "python3"
  },
  "language_info": {
   "codemirror_mode": {
    "name": "ipython",
    "version": 3
   },
   "file_extension": ".py",
   "mimetype": "text/x-python",
   "name": "python",
   "nbconvert_exporter": "python",
   "pygments_lexer": "ipython3",
   "version": "3.12.3"
  }
 },
 "nbformat": 4,
 "nbformat_minor": 5
}
