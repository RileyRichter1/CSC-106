{
 "cells": [
  {
   "cell_type": "markdown",
   "id": "c6fb69f9",
   "metadata": {},
   "source": [
    "# Homework"
   ]
  },
  {
   "cell_type": "markdown",
   "id": "7a8db0f2",
   "metadata": {},
   "source": [
    "Wake up call at 5am. "
   ]
  },
  {
   "cell_type": "raw",
   "id": "43c9fed0",
   "metadata": {},
   "source": [
    "Write a a function to greet this customers in the respective hotels.\n",
    "Hotels = [\"Hyatt\", \"Hilton\", \"Marriott\"]\n",
    "Names = [\"Michelle\", \"Kim\", \"Miguel\"] \n",
    "\n",
    "Output : Good morning [customer], Welcome to [Hotel].\n",
    "         pause for 2 seconds.\n",
    "         Have a wonderful stay.  "
   ]
  },
  {
   "cell_type": "raw",
   "id": "fcbc9e3d",
   "metadata": {},
   "source": [
    "Clue : \n",
    "\n",
    "def customer_greetings(Hotels):\n",
    "  for x in Hotels:\n",
    "    print(\"Howdy \" + x)\n",
    "\n",
    "customers = [\"Michelle\", \"Kim\", \"Miguel\"]\n",
    "        \n",
    "        \n",
    "from datetime import datetime\n",
    "now = datetime.now()\n",
    "current_time = now.strftime(\"%H:%M:%S\")\n",
    "print(\"Current Time =\", current_time)\n"
   ]
  },
  {
   "cell_type": "code",
   "execution_count": 14,
   "id": "35237003",
   "metadata": {},
   "outputs": [
    {
     "name": "stdout",
     "output_type": "stream",
     "text": [
      "Good morning Michelle, Welcome to Hyatt.\n",
      "Have a wonderful stay.\n",
      "Good morning Kim, Welcome to Hilton.\n",
      "Have a wonderful stay.\n",
      "Good morning Miguel, Welcome to Marriott.\n",
      "Have a wonderful stay.\n"
     ]
    }
   ],
   "source": [
    "import time\n",
    "from datetime import datetime\n",
    "\n",
    "def customer_greetings(hotels, names):\n",
    "    for i in range(len(hotels)):\n",
    "        print(\"Good morning \" + names[i] + \", Welcome to \" + hotels[i] + \".\")\n",
    "        time.sleep(2)\n",
    "        print(\"Have a wonderful stay.\")\n",
    "\n",
    "hotels = [\"Hyatt\", \"Hilton\", \"Marriott\"]\n",
    "names = [\"Michelle\", \"Kim\", \"Miguel\"]\n",
    "\n",
    "customer_greetings(hotels, names)\n"
   ]
  },
  {
   "cell_type": "raw",
   "id": "847f60c4",
   "metadata": {},
   "source": [
    "Readme : Create a csv file on Github with Customer Information.\n",
    "\n",
    "Set 3 different wakeup call time for the 3 customers. \n",
    "        \n",
    "Name, Hotel, Wakeup,\n",
    "Sam, Hyatt, 0400,\n",
    "Sally, Holiday Inn, 7,\n",
    "Teddy, Ramada, 1600\n"
   ]
  },
  {
   "cell_type": "code",
   "execution_count": 15,
   "id": "df5d895b",
   "metadata": {},
   "outputs": [
    {
     "name": "stdout",
     "output_type": "stream",
     "text": [
      "    Name        Hotel  Wakeup\n",
      "0    Sam        Hyatt     400\n",
      "1  Sally  Holiday Inn     700\n",
      "2  Teddy       Ramada    1600\n"
     ]
    }
   ],
   "source": [
    "import pandas as pd\n",
    "\n",
    "url = 'https://raw.githubusercontent.com/RileyRichter1/CSC-106/main/Week10/Week10M/Customer_Wakeup_Info.csv'\n",
    "\n",
    "df = pd.read_csv(url)\n",
    "\n",
    "print(df)"
   ]
  },
  {
   "cell_type": "raw",
   "id": "5abf8f18",
   "metadata": {},
   "source": [
    "End of Homework"
   ]
  },
  {
   "cell_type": "markdown",
   "id": "39767786",
   "metadata": {},
   "source": [
    "# GitHub Link"
   ]
  },
  {
   "cell_type": "code",
   "execution_count": null,
   "id": "26ae2081",
   "metadata": {},
   "outputs": [],
   "source": []
  },
  {
   "cell_type": "code",
   "execution_count": null,
   "id": "563b54dd",
   "metadata": {},
   "outputs": [],
   "source": []
  }
 ],
 "metadata": {
  "kernelspec": {
   "display_name": "Python 3 (ipykernel)",
   "language": "python",
   "name": "python3"
  },
  "language_info": {
   "codemirror_mode": {
    "name": "ipython",
    "version": 3
   },
   "file_extension": ".py",
   "mimetype": "text/x-python",
   "name": "python",
   "nbconvert_exporter": "python",
   "pygments_lexer": "ipython3",
   "version": "3.12.3"
  }
 },
 "nbformat": 4,
 "nbformat_minor": 5
}
